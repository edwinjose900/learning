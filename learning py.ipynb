{
 "cells": [
  {
   "cell_type": "markdown",
   "metadata": {},
   "source": [
    "# <I>DAY ONE </I>"
   ]
  },
  {
   "cell_type": "markdown",
   "metadata": {},
   "source": [
    "## <b>Decesion statemensts</b>"
   ]
  },
  {
   "cell_type": "code",
   "execution_count": 28,
   "metadata": {},
   "outputs": [
    {
     "name": "stdout",
     "output_type": "stream",
     "text": [
      "test succesful\n"
     ]
    }
   ],
   "source": [
    "var = 100;\n",
    "if(var is 100):\n",
    "    print(\"test succesful\");\n",
    "else:\n",
    "    print(\"test unsuccel\");"
   ]
  },
  {
   "cell_type": "code",
   "execution_count": 4,
   "metadata": {},
   "outputs": [
    {
     "name": "stdout",
     "output_type": "stream",
     "text": [
      "enter 100:100\n",
      "100\n",
      "wow\n"
     ]
    }
   ],
   "source": [
    "#not working as expected ask chetatn why\n",
    "n= int(input(\"enter 100:\"));\n",
    "print(n);\n",
    "if(n is 100):\n",
    "    print(\"wow\");"
   ]
  },
  {
   "cell_type": "code",
   "execution_count": 6,
   "metadata": {},
   "outputs": [
    {
     "name": "stdout",
     "output_type": "stream",
     "text": [
      "sth hello\n",
      "wow\n"
     ]
    }
   ],
   "source": [
    "#not working as expected ask chetatn why\n",
    "n= str(input(\"sth \"));\n",
    "\n",
    "if(n == \"hello\"):\n",
    "    print(\"wow\");"
   ]
  },
  {
   "cell_type": "markdown",
   "metadata": {},
   "source": [
    "## loops"
   ]
  },
  {
   "cell_type": "code",
   "execution_count": 19,
   "metadata": {},
   "outputs": [
    {
     "name": "stdout",
     "output_type": "stream",
     "text": [
      "[1, 1, 2, 33, 4, 5]\n",
      "0\n",
      "1\n",
      "2\n",
      "3\n",
      "4\n",
      "out of loop\n"
     ]
    }
   ],
   "source": [
    "i=[1,1,2,33,4,5];\n",
    "print(i);\n",
    "j=0\n",
    "while (j<5):\n",
    "    print(j);\n",
    "    j+=1;\n",
    "print(\"out of loop\")"
   ]
  },
  {
   "cell_type": "code",
   "execution_count": 20,
   "metadata": {},
   "outputs": [
    {
     "name": "stdout",
     "output_type": "stream",
     "text": [
      "[1, 1, 2, 33, 4, 5]\n"
     ]
    }
   ],
   "source": [
    "print(i);"
   ]
  },
  {
   "cell_type": "code",
   "execution_count": 22,
   "metadata": {},
   "outputs": [
    {
     "name": "stdout",
     "output_type": "stream",
     "text": [
      "1\n",
      "1\n",
      "2\n",
      "33\n",
      "4\n",
      "5\n"
     ]
    }
   ],
   "source": [
    "for j in i :\n",
    "    print(j);"
   ]
  },
  {
   "cell_type": "code",
   "execution_count": null,
   "metadata": {},
   "outputs": [],
   "source": []
  }
 ],
 "metadata": {
  "kernelspec": {
   "display_name": "Python 3.6",
   "language": "python",
   "name": "python_3.6"
  },
  "language_info": {
   "codemirror_mode": {
    "name": "ipython",
    "version": 3
   },
   "file_extension": ".py",
   "mimetype": "text/x-python",
   "name": "python",
   "nbconvert_exporter": "python",
   "pygments_lexer": "ipython3",
   "version": "3.6.3"
  }
 },
 "nbformat": 4,
 "nbformat_minor": 2
}
