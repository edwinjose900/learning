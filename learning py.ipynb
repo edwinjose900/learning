{
 "cells": [
  {
   "cell_type": "markdown",
   "metadata": {},
   "source": [
    "# <I>DAY ONE </I>"
   ]
  },
  {
   "cell_type": "markdown",
   "metadata": {},
   "source": [
    "## <b>Decesion statemensts</b>"
   ]
  },
  {
   "cell_type": "code",
   "execution_count": 28,
   "metadata": {},
   "outputs": [
    {
     "name": "stdout",
     "output_type": "stream",
     "text": [
      "test succesful\n"
     ]
    }
   ],
   "source": [
    "var = 100;\n",
    "if(var is 100):\n",
    "    print(\"test succesful\");\n",
    "else:\n",
    "    print(\"test unsuccel\");"
   ]
  },
  {
   "cell_type": "code",
   "execution_count": 4,
   "metadata": {},
   "outputs": [
    {
     "name": "stdout",
     "output_type": "stream",
     "text": [
      "enter 100:100\n",
      "100\n",
      "wow\n"
     ]
    }
   ],
   "source": [
    "#not working as expected ask chetatn why\n",
    "n= int(input(\"enter 100:\"));\n",
    "print(n);\n",
    "if(n is 100):\n",
    "    print(\"wow\");"
   ]
  },
  {
   "cell_type": "code",
   "execution_count": 6,
   "metadata": {},
   "outputs": [
    {
     "name": "stdout",
     "output_type": "stream",
     "text": [
      "sth hello\n",
      "wow\n"
     ]
    }
   ],
   "source": [
    "#not working as expected ask chetatn why\n",
    "n= str(input(\"sth \"));\n",
    "\n",
    "if(n == \"hello\"):\n",
    "    print(\"wow\");"
   ]
  },
  {
   "cell_type": "markdown",
   "metadata": {},
   "source": [
    "## loops"
   ]
  },
  {
   "cell_type": "code",
   "execution_count": 19,
   "metadata": {},
   "outputs": [
    {
     "name": "stdout",
     "output_type": "stream",
     "text": [
      "[1, 1, 2, 33, 4, 5]\n",
      "0\n",
      "1\n",
      "2\n",
      "3\n",
      "4\n",
      "out of loop\n"
     ]
    }
   ],
   "source": [
    "i=[1,1,2,33,4,5];\n",
    "print(i);\n",
    "j=0\n",
    "while (j<5):\n",
    "    print(j);\n",
    "    j+=1;\n",
    "print(\"out of loop\")"
   ]
  },
  {
   "cell_type": "code",
   "execution_count": 20,
   "metadata": {},
   "outputs": [
    {
     "name": "stdout",
     "output_type": "stream",
     "text": [
      "[1, 1, 2, 33, 4, 5]\n"
     ]
    }
   ],
   "source": [
    "print(i);"
   ]
  },
  {
   "cell_type": "code",
   "execution_count": 22,
   "metadata": {},
   "outputs": [
    {
     "name": "stdout",
     "output_type": "stream",
     "text": [
      "1\n",
      "1\n",
      "2\n",
      "33\n",
      "4\n",
      "5\n"
     ]
    }
   ],
   "source": [
    "for j in i :\n",
    "    print(j);"
   ]
  },
  {
   "cell_type": "markdown",
   "metadata": {},
   "source": [
    "## lists"
   ]
  },
  {
   "cell_type": "code",
   "execution_count": 8,
   "metadata": {},
   "outputs": [
    {
     "name": "stdout",
     "output_type": "stream",
     "text": [
      "['1', 1]\n"
     ]
    }
   ],
   "source": [
    "l=['hello','1',1,3,4];\n",
    "print(l[1:3]);\n"
   ]
  },
  {
   "cell_type": "markdown",
   "metadata": {},
   "source": []
  },
  {
   "cell_type": "code",
   "execution_count": 10,
   "metadata": {},
   "outputs": [
    {
     "name": "stdout",
     "output_type": "stream",
     "text": [
      "[[1, 2, 3, 4, 5], [1, 2, 3, 48]]\n"
     ]
    }
   ],
   "source": [
    "w=[[1,2,3,4,5],[1,2,3,48]];\n",
    "print(w);"
   ]
  },
  {
   "cell_type": "code",
   "execution_count": 11,
   "metadata": {},
   "outputs": [
    {
     "name": "stdout",
     "output_type": "stream",
     "text": [
      "48\n"
     ]
    }
   ],
   "source": [
    "print(w[1][3]);"
   ]
  },
  {
   "cell_type": "code",
   "execution_count": 13,
   "metadata": {},
   "outputs": [
    {
     "name": "stdout",
     "output_type": "stream",
     "text": [
      "(1, 2, 3, 4)\n"
     ]
    }
   ],
   "source": [
    "tup=(1,2,3,4);\n",
    "print(tup);"
   ]
  },
  {
   "cell_type": "markdown",
   "metadata": {},
   "source": [
    "## functions"
   ]
  },
  {
   "cell_type": "code",
   "execution_count": 19,
   "metadata": {},
   "outputs": [
    {
     "name": "stdout",
     "output_type": "stream",
     "text": [
      "30\n"
     ]
    }
   ],
   "source": [
    "def ad(a,b):\n",
    "    s=a+b;\n",
    "    return s;\n",
    "print(ad(10,20));"
   ]
  },
  {
   "cell_type": "markdown",
   "metadata": {},
   "source": [
    "## accessing files"
   ]
  },
  {
   "cell_type": "code",
   "execution_count": 10,
   "metadata": {},
   "outputs": [],
   "source": [
    "file = open(\"testfile.txt\",'w') \n",
    " \n",
    "file.write(\"hello\")\n",
    " \n",
    "file.close() "
   ]
  },
  {
   "cell_type": "code",
   "execution_count": 25,
   "metadata": {},
   "outputs": [
    {
     "name": "stdout",
     "output_type": "stream",
     "text": [
      "categories:\n",
      "\n"
     ]
    }
   ],
   "source": [
    "file = open(\"myown.yml\", 'r') \n",
    "print(file.readline())"
   ]
  },
  {
   "cell_type": "code",
   "execution_count": 31,
   "metadata": {},
   "outputs": [
    {
     "name": "stdout",
     "output_type": "stream",
     "text": [
      "- - What do you mean?\n",
      "\n"
     ]
    }
   ],
   "source": [
    "s=file.readline();\n",
    "print(s);"
   ]
  },
  {
   "cell_type": "code",
   "execution_count": 32,
   "metadata": {},
   "outputs": [
    {
     "data": {
      "text/plain": [
       "'-'"
      ]
     },
     "execution_count": 32,
     "metadata": {},
     "output_type": "execute_result"
    }
   ],
   "source": [
    "s[0]"
   ]
  },
  {
   "cell_type": "code",
   "execution_count": 34,
   "metadata": {},
   "outputs": [
    {
     "data": {
      "text/plain": [
       "' '"
      ]
     },
     "execution_count": 34,
     "metadata": {},
     "output_type": "execute_result"
    }
   ],
   "source": [
    "s[1]"
   ]
  },
  {
   "cell_type": "code",
   "execution_count": 37,
   "metadata": {},
   "outputs": [
    {
     "name": "stdout",
     "output_type": "stream",
     "text": [
      "22\n"
     ]
    }
   ],
   "source": [
    "l=len(s)\n",
    "print(l)"
   ]
  },
  {
   "cell_type": "code",
   "execution_count": 41,
   "metadata": {},
   "outputs": [
    {
     "name": "stdout",
     "output_type": "stream",
     "text": [
      "- - What do you mean?\n",
      "\n"
     ]
    }
   ],
   "source": [
    "print(s)"
   ]
  },
  {
   "cell_type": "code",
   "execution_count": 44,
   "metadata": {},
   "outputs": [],
   "source": [
    "s=s.replace(\"- \",\"\")"
   ]
  },
  {
   "cell_type": "code",
   "execution_count": 48,
   "metadata": {},
   "outputs": [
    {
     "name": "stdout",
     "output_type": "stream",
     "text": [
      "q:What do you mean?\n",
      "\n"
     ]
    }
   ],
   "source": [
    "print(\"q:\"+s)"
   ]
  },
  {
   "cell_type": "markdown",
   "metadata": {},
   "source": [
    "#### reading all lines"
   ]
  },
  {
   "cell_type": "code",
   "execution_count": 70,
   "metadata": {},
   "outputs": [
    {
     "name": "stdout",
     "output_type": "stream",
     "text": [
      "27\n",
      "Q:How can I create my own data \n",
      "\n"
     ]
    }
   ],
   "source": [
    "file = open(\"my.yml\", 'r')\n",
    "n_lines=0;\n",
    "for line in file:\n",
    "    n_lines+=1\n",
    "file.close();\n",
    "print(n_lines)\n",
    "file = open(\"my.yml\", 'r')\n",
    "print(\"Q:\"+file.readline().replace(\"- \",\"\"));\n"
   ]
  },
  {
   "cell_type": "code",
   "execution_count": 75,
   "metadata": {},
   "outputs": [
    {
     "name": "stdout",
     "output_type": "stream",
     "text": [
      "27\n",
      "How can I create my own data\n",
      "Copy this file and start typing\n",
      "What do you mean?\n",
      "You just replace my lines with yours in this file\n",
      "Do you really mean I can just modify this file?\n",
      "That is correct or copy this file and every line that starts with \"-\" is your statement and every line that starts\n",
      "with \"  -\" is my respond.\n",
      "But how much data can I insert in here?\n",
      "How long is a string?\n",
      "Does it matter how much data I insert in here?\n",
      "Both yes and no, as more data as faster the chatterbot will be trained, but this data is good enough to start with.\n",
      "Can I type any langauge in here?\n",
      "We can try... Let's try Swedish, Please type \"Hej hur mår du?\" and see if it works.\n",
      "Hej hur mår du?\n",
      "Jag mår bra, hur mår du?\n",
      "Jag mår bra\n",
      "Roligt att höra.\n",
      "Det funkar att skriva på Svenska.\n",
      "I'll will answer in ENGLISH, but all unicoded languages will work. Even Swedish.\n",
      "How do I import my data to Chatterbot?\n",
      "If you are using Django, modify the settings.py file and under section \"training_data\" you adding following line.\n",
      "\"'chatterbot.corpus.custom.myown'\"\n",
      "If I call my own training file to let's say myfavsport.yml and put that file in directory sports instead of custom,\n",
      "how will that look then?\n",
      "\"'chatterbot.corpus.sports.myfavsport'\"\n",
      "Cool, I think I got it now\n",
      "Sweet, may the force be with you.\n",
      "\n",
      "\n",
      "\n",
      "\n",
      "\n",
      "\n",
      "\n",
      "\n",
      "\n",
      "\n",
      "\n",
      "\n",
      "\n",
      "\n",
      "\n",
      "\n",
      "\n",
      "\n",
      "\n",
      "\n",
      "\n",
      "\n",
      "\n",
      "\n",
      "\n",
      "\n",
      "\n"
     ]
    }
   ],
   "source": [
    "file = open(\"my.yml\", 'r')\n",
    "n_lines=0;\n",
    "for line in file:\n",
    "    n_lines+=1\n",
    "file.close();\n",
    "print(n_lines)\n",
    "count=0\n",
    "file = open(\"my.yml\", 'r')\n",
    "for i in range(0,n_lines):\n",
    "    question=file.readline().replace(\"- \",\"\").strip();\n",
    "    answer=file.readline().replace(\"- \",\"\").strip();\n",
    "    print(question);\n",
    "    print(answer);\n",
    "    i+=1;\n",
    "    "
   ]
  },
  {
   "cell_type": "code",
   "execution_count": 88,
   "metadata": {},
   "outputs": [
    {
     "name": "stdout",
     "output_type": "stream",
     "text": [
      "b'ai.yml'\n",
      "ai.yml\n",
      "b'botprofile.yml'\n",
      "botprofile.yml\n",
      "b'computers.yml'\n",
      "computers.yml\n",
      "b'conversations.yml'\n",
      "conversations.yml\n",
      "b'emotion.yml'\n",
      "emotion.yml\n",
      "b'food.yml'\n",
      "food.yml\n",
      "b'gossip.yml'\n",
      "gossip.yml\n",
      "b'greetings.yml'\n",
      "greetings.yml\n",
      "b'history.yml'\n",
      "history.yml\n",
      "b'humor.yml'\n",
      "humor.yml\n",
      "b'literature.yml'\n",
      "literature.yml\n",
      "b'money.yml'\n",
      "money.yml\n",
      "b'movies.yml'\n",
      "movies.yml\n",
      "b'politics.yml'\n",
      "politics.yml\n",
      "b'psychology.yml'\n",
      "psychology.yml\n",
      "b'science.yml'\n",
      "science.yml\n",
      "b'sports.yml'\n",
      "sports.yml\n",
      "b'trivia.yml'\n",
      "trivia.yml\n"
     ]
    }
   ],
   "source": [
    "import os\n",
    "directory = os.fsencode(\"/home/lamp/projects/learning/chat_bot/train\")\n",
    "\n",
    "for file in os.listdir(directory):\n",
    "    filename = os.fsdecode(file)\n",
    "    print(filename);"
   ]
  },
  {
   "cell_type": "code",
   "execution_count": null,
   "metadata": {},
   "outputs": [],
   "source": []
  },
  {
   "cell_type": "code",
   "execution_count": 4,
   "metadata": {},
   "outputs": [
    {
     "name": "stdout",
     "output_type": "stream",
     "text": [
      "same\n"
     ]
    }
   ],
   "source": [
    "s=0;\n",
    "t=0;\n",
    "if(s==t):\n",
    "    print(\"same\");\n",
    "else:\n",
    "    print(\"not same\");"
   ]
  },
  {
   "cell_type": "code",
   "execution_count": 5,
   "metadata": {},
   "outputs": [
    {
     "data": {
      "text/plain": [
       "int"
      ]
     },
     "execution_count": 5,
     "metadata": {},
     "output_type": "execute_result"
    }
   ],
   "source": [
    "type(s)"
   ]
  },
  {
   "cell_type": "markdown",
   "metadata": {},
   "source": [
    "##calibrate fiel\n"
   ]
  },
  {
   "cell_type": "code",
   "execution_count": 7,
   "metadata": {},
   "outputs": [
    {
     "ename": "FileNotFoundError",
     "evalue": "[Errno 2] No such file or directory: 'ini.txt'",
     "output_type": "error",
     "traceback": [
      "\u001b[0;31m---------------------------------------------------------------------------\u001b[0m",
      "\u001b[0;31mFileNotFoundError\u001b[0m                         Traceback (most recent call last)",
      "\u001b[0;32m<ipython-input-7-8ed4d2f9726b>\u001b[0m in \u001b[0;36m<module>\u001b[0;34m()\u001b[0m\n\u001b[1;32m      9\u001b[0m     \u001b[0;32melse\u001b[0m\u001b[0;34m:\u001b[0m\u001b[0;34m\u001b[0m\u001b[0m\n\u001b[1;32m     10\u001b[0m         \u001b[0;32mreturn\u001b[0m \u001b[0;32mTrue\u001b[0m\u001b[0;34m;\u001b[0m\u001b[0;34m\u001b[0m\u001b[0m\n\u001b[0;32m---> 11\u001b[0;31m \u001b[0mprint\u001b[0m\u001b[0;34m(\u001b[0m\u001b[0mcalibrate\u001b[0m\u001b[0;34m(\u001b[0m\u001b[0;34m)\u001b[0m\u001b[0;34m)\u001b[0m\u001b[0;34m;\u001b[0m\u001b[0;34m\u001b[0m\u001b[0m\n\u001b[0m\u001b[1;32m     12\u001b[0m \u001b[0;32mif\u001b[0m\u001b[0;34m(\u001b[0m\u001b[0mcalibrate\u001b[0m\u001b[0;34m(\u001b[0m\u001b[0;34m)\u001b[0m\u001b[0;34m)\u001b[0m\u001b[0;34m:\u001b[0m\u001b[0;34m\u001b[0m\u001b[0m\n\u001b[1;32m     13\u001b[0m     \u001b[0mprint\u001b[0m\u001b[0;34m(\u001b[0m\u001b[0;34m\"calibarte\"\u001b[0m\u001b[0;34m)\u001b[0m\u001b[0;34m;\u001b[0m\u001b[0;34m\u001b[0m\u001b[0m\n",
      "\u001b[0;32m<ipython-input-7-8ed4d2f9726b>\u001b[0m in \u001b[0;36mcalibrate\u001b[0;34m()\u001b[0m\n\u001b[1;32m      1\u001b[0m \u001b[0;34m\u001b[0m\u001b[0m\n\u001b[1;32m      2\u001b[0m \u001b[0;32mdef\u001b[0m \u001b[0mcalibrate\u001b[0m\u001b[0;34m(\u001b[0m\u001b[0;34m)\u001b[0m\u001b[0;34m:\u001b[0m\u001b[0;34m\u001b[0m\u001b[0m\n\u001b[0;32m----> 3\u001b[0;31m     \u001b[0mfile\u001b[0m\u001b[0;34m=\u001b[0m\u001b[0mopen\u001b[0m\u001b[0;34m(\u001b[0m\u001b[0;34m\"ini.txt\"\u001b[0m\u001b[0;34m,\u001b[0m\u001b[0;34m'r'\u001b[0m\u001b[0;34m)\u001b[0m\u001b[0;34m\u001b[0m\u001b[0m\n\u001b[0m\u001b[1;32m      4\u001b[0m     \u001b[0ms\u001b[0m\u001b[0;34m=\u001b[0m\u001b[0mint\u001b[0m\u001b[0;34m(\u001b[0m\u001b[0mfile\u001b[0m\u001b[0;34m.\u001b[0m\u001b[0mread\u001b[0m\u001b[0;34m(\u001b[0m\u001b[0;34m)\u001b[0m\u001b[0;34m)\u001b[0m\u001b[0;34m;\u001b[0m\u001b[0;34m\u001b[0m\u001b[0m\n\u001b[1;32m      5\u001b[0m     \u001b[0mprint\u001b[0m\u001b[0;34m(\u001b[0m\u001b[0mtype\u001b[0m\u001b[0;34m(\u001b[0m\u001b[0ms\u001b[0m\u001b[0;34m)\u001b[0m\u001b[0;34m)\u001b[0m\u001b[0;34m;\u001b[0m\u001b[0;34m\u001b[0m\u001b[0m\n",
      "\u001b[0;31mFileNotFoundError\u001b[0m: [Errno 2] No such file or directory: 'ini.txt'"
     ]
    }
   ],
   "source": [
    "\n",
    "def calibrate():\n",
    "    file=open(\"ini.txt\",'r')\n",
    "    s=int(file.read());\n",
    "    print(type(s));\n",
    "    file.close();\n",
    "    if (s==0):\n",
    "        return False;\n",
    "    else:\n",
    "        return True;\n",
    "print(calibrate());\n",
    "if(calibrate()):\n",
    "    print(\"calibarte\");\n",
    "else:\n",
    "    print(\"dont calibrate\");"
   ]
  },
  {
   "cell_type": "code",
   "execution_count": null,
   "metadata": {},
   "outputs": [],
   "source": []
  }
 ],
 "metadata": {
  "kernelspec": {
   "display_name": "Python 3.6",
   "language": "python",
   "name": "python_3.6"
  },
  "language_info": {
   "codemirror_mode": {
    "name": "ipython",
    "version": 3
   },
   "file_extension": ".py",
   "mimetype": "text/x-python",
   "name": "python",
   "nbconvert_exporter": "python",
   "pygments_lexer": "ipython3",
   "version": "3.6.3"
  }
 },
 "nbformat": 4,
 "nbformat_minor": 2
}
