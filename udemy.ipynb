{
 "cells": [
  {
   "cell_type": "code",
   "execution_count": null,
   "metadata": {},
   "outputs": [],
   "source": [
    "import wolframalpha\n",
    "ask= input(\"question:\");\n",
    "print(ask);\n",
    "APPID=\"LTQUWQ-YLHV4696XJ\";\n",
    "client = wolframalpha.Client(APPID);\n",
    "res=client.query(ask);\n",
    "answer=next(res.results).text;\n",
    "print(answer);"
   ]
  },
  {
   "cell_type": "markdown",
   "metadata": {},
   "source": [
    "## testing wikipedia"
   ]
  },
  {
   "cell_type": "code",
   "execution_count": null,
   "metadata": {},
   "outputs": [],
   "source": [
    "import wikipedia"
   ]
  },
  {
   "cell_type": "code",
   "execution_count": null,
   "metadata": {},
   "outputs": [],
   "source": [
    "while True:\n",
    "    ask=str(input(\"Q:\"));\n",
    "    print(wikipedia.summary(ask));"
   ]
  },
  {
   "cell_type": "markdown",
   "metadata": {},
   "source": [
    "## advance feature by wikipedia api\n"
   ]
  },
  {
   "cell_type": "code",
   "execution_count": null,
   "metadata": {},
   "outputs": [],
   "source": [
    "import wikipedia\n",
    "while True:\n",
    "    ask=str(input(\"Q:\"));\n",
    "    #setting language\n",
    "    wikipedia.set_lang(\"en\")\n",
    "    print(wikipedia.summary(ask,sentences =2));\n",
    "#truncating the output"
   ]
  },
  {
   "cell_type": "markdown",
   "metadata": {},
   "source": [
    "# compining the data from wolfrom and wikipedia\n"
   ]
  },
  {
   "cell_type": "code",
   "execution_count": null,
   "metadata": {},
   "outputs": [],
   "source": [
    "import wikipedia\n",
    "import wolframalpha\n",
    "\n",
    "APPID=\"LTQUWQ-YLHV4696XJ\";\n",
    "client = wolframalpha.Client(APPID);\n",
    "while True:\n",
    "    ask=str(input(\"Q:\"));\n",
    "    \n",
    "    #try and except\n",
    "    try:\n",
    "        #wolf\n",
    "        res=client.query(ask);\n",
    "        answer=next(res.results).text;\n",
    "        print(answer);\n",
    "    except:\n",
    "        wikipedia.set_lang(\"en\")\n",
    "        print(wikipedia.summary(ask,sentences =2));"
   ]
  },
  {
   "cell_type": "markdown",
   "metadata": {},
   "source": [
    "# code for minimal assistant"
   ]
  },
  {
   "cell_type": "code",
   "execution_count": null,
   "metadata": {},
   "outputs": [
    {
     "name": "stdout",
     "output_type": "stream",
     "text": [
      "Q:who is thomas edison\n",
      "Thomas Alva Edison (February 11, 1847 – October 18, 1931) was an American inventor and businessman, who has been described as America's greatest inventor. He developed many devices that greatly influenced life around the world, including the phonograph, the motion picture camera, and the long-lasting, practical electric light bulb.\n"
     ]
    }
   ],
   "source": [
    "import wikipedia\n",
    "import wolframalpha\n",
    "\n",
    "APPID=\"LTQUWQ-YLHV4696XJ\";\n",
    "client = wolframalpha.Client(APPID);\n",
    "while True:\n",
    "    ask=str(input(\"Q:\"));\n",
    "    \n",
    "    #try and except\n",
    "    try:\n",
    "        #wolf\n",
    "        res=client.query(ask);\n",
    "        answer=next(res.results).text;\n",
    "        print(answer);\n",
    "    except:\n",
    "        wikipedia.set_lang(\"en\")\n",
    "        print(wikipedia.summary(ask,sentences =2));\n",
    "        "
   ]
  },
  {
   "cell_type": "code",
   "execution_count": null,
   "metadata": {},
   "outputs": [],
   "source": [
    " "
   ]
  }
 ],
 "metadata": {
  "kernelspec": {
   "display_name": "Python 3.6",
   "language": "python",
   "name": "python_3.6"
  },
  "language_info": {
   "codemirror_mode": {
    "name": "ipython",
    "version": 3
   },
   "file_extension": ".py",
   "mimetype": "text/x-python",
   "name": "python",
   "nbconvert_exporter": "python",
   "pygments_lexer": "ipython3",
   "version": "3.6.3"
  }
 },
 "nbformat": 4,
 "nbformat_minor": 2
}
