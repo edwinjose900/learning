{
 "cells": [
  {
   "cell_type": "code",
   "execution_count": 5,
   "metadata": {},
   "outputs": [
    {
     "name": "stdout",
     "output_type": "stream",
     "text": [
      "[<pyttsx3.voice.Voice object at 0x7f982c323080>, <pyttsx3.voice.Voice object at 0x7f982c323320>, <pyttsx3.voice.Voice object at 0x7f982c323470>, <pyttsx3.voice.Voice object at 0x7f982c323eb8>, <pyttsx3.voice.Voice object at 0x7f982c33f128>, <pyttsx3.voice.Voice object at 0x7f982c33fc88>, <pyttsx3.voice.Voice object at 0x7f982c33f0b8>, <pyttsx3.voice.Voice object at 0x7f982c33f1d0>, <pyttsx3.voice.Voice object at 0x7f982c33ff28>, <pyttsx3.voice.Voice object at 0x7f982c33feb8>, <pyttsx3.voice.Voice object at 0x7f982c33f320>, <pyttsx3.voice.Voice object at 0x7f982c3324a8>, <pyttsx3.voice.Voice object at 0x7f982c3324e0>, <pyttsx3.voice.Voice object at 0x7f982c3325f8>, <pyttsx3.voice.Voice object at 0x7f982c332898>, <pyttsx3.voice.Voice object at 0x7f982c332198>, <pyttsx3.voice.Voice object at 0x7f982c332780>, <pyttsx3.voice.Voice object at 0x7f982c332438>, <pyttsx3.voice.Voice object at 0x7f982c332128>, <pyttsx3.voice.Voice object at 0x7f982c332400>, <pyttsx3.voice.Voice object at 0x7f982c3327b8>, <pyttsx3.voice.Voice object at 0x7f982c332160>, <pyttsx3.voice.Voice object at 0x7f982c332518>, <pyttsx3.voice.Voice object at 0x7f982c332668>, <pyttsx3.voice.Voice object at 0x7f982c332710>, <pyttsx3.voice.Voice object at 0x7f982c332748>, <pyttsx3.voice.Voice object at 0x7f982c332208>, <pyttsx3.voice.Voice object at 0x7f982c332588>, <pyttsx3.voice.Voice object at 0x7f982c332828>, <pyttsx3.voice.Voice object at 0x7f982c399550>, <pyttsx3.voice.Voice object at 0x7f982c399c50>, <pyttsx3.voice.Voice object at 0x7f982c399e80>, <pyttsx3.voice.Voice object at 0x7f982c399630>, <pyttsx3.voice.Voice object at 0x7f982c399ef0>, <pyttsx3.voice.Voice object at 0x7f982c399e48>, <pyttsx3.voice.Voice object at 0x7f982c399c18>, <pyttsx3.voice.Voice object at 0x7f982c3995c0>, <pyttsx3.voice.Voice object at 0x7f982c3910b8>, <pyttsx3.voice.Voice object at 0x7f982c391630>, <pyttsx3.voice.Voice object at 0x7f982c391710>, <pyttsx3.voice.Voice object at 0x7f982c3916a0>, <pyttsx3.voice.Voice object at 0x7f982c391358>, <pyttsx3.voice.Voice object at 0x7f982c391550>, <pyttsx3.voice.Voice object at 0x7f982c391128>, <pyttsx3.voice.Voice object at 0x7f982c38fe48>, <pyttsx3.voice.Voice object at 0x7f982c38f860>, <pyttsx3.voice.Voice object at 0x7f982c38f828>, <pyttsx3.voice.Voice object at 0x7f982c38fe10>, <pyttsx3.voice.Voice object at 0x7f982c3073c8>, <pyttsx3.voice.Voice object at 0x7f982c307978>, <pyttsx3.voice.Voice object at 0x7f982c307588>, <pyttsx3.voice.Voice object at 0x7f982c307668>, <pyttsx3.voice.Voice object at 0x7f982c307860>, <pyttsx3.voice.Voice object at 0x7f982c307898>, <pyttsx3.voice.Voice object at 0x7f982c3079e8>, <pyttsx3.voice.Voice object at 0x7f982c307080>, <pyttsx3.voice.Voice object at 0x7f982c307400>, <pyttsx3.voice.Voice object at 0x7f982c307ac8>, <pyttsx3.voice.Voice object at 0x7f982c307a58>, <pyttsx3.voice.Voice object at 0x7f982c307630>, <pyttsx3.voice.Voice object at 0x7f982c307940>, <pyttsx3.voice.Voice object at 0x7f982c376160>, <pyttsx3.voice.Voice object at 0x7f982c376080>, <pyttsx3.voice.Voice object at 0x7f982c376358>, <pyttsx3.voice.Voice object at 0x7f982c376400>, <pyttsx3.voice.Voice object at 0x7f982c376470>, <pyttsx3.voice.Voice object at 0x7f982c3763c8>, <pyttsx3.voice.Voice object at 0x7f982c376390>, <pyttsx3.voice.Voice object at 0x7f982c3765f8>]\n"
     ]
    }
   ],
   "source": [
    "import pyttsx3\n",
    "engine = pyttsx3.init()\n",
    "rate = engine.getProperty('rate')\n",
    "engine.setProperty('rate', rate-100)\n",
    "engine.say('The quick brown fox jumped over the lazy dog.')\n",
    "engine.runAndWait()\n",
    "voices = engine.getProperty('voices')\n",
    "print(voices)"
   ]
  },
  {
   "cell_type": "code",
   "execution_count": 37,
   "metadata": {},
   "outputs": [
    {
     "data": {
      "text/plain": [
       "32512"
      ]
     },
     "execution_count": 37,
     "metadata": {},
     "output_type": "execute_result"
    }
   ],
   "source": [
    "from yandex_speech import TTS\n",
    "import os\n",
    "tts = TTS(\"ermil\", \"mp3\", \"25d87483-720a-46ea-82bd-7f89d4c95bbd\",lang='en-US',emotion=\"sad\")\n",
    "tts.generate(\"my name is edwin jose and im happy\")\n",
    "tts.save()\n",
    "os.system(\"mplayer speech.mp3 -af channels=2\")\n",
    "#mplayer some_file.avi -af channels=1"
   ]
  },
  {
   "cell_type": "code",
   "execution_count": null,
   "metadata": {},
   "outputs": [],
   "source": []
  }
 ],
 "metadata": {
  "kernelspec": {
   "display_name": "Python 3.6",
   "language": "python",
   "name": "python_3.6"
  },
  "language_info": {
   "codemirror_mode": {
    "name": "ipython",
    "version": 3
   },
   "file_extension": ".py",
   "mimetype": "text/x-python",
   "name": "python",
   "nbconvert_exporter": "python",
   "pygments_lexer": "ipython3",
   "version": "3.6.3"
  }
 },
 "nbformat": 4,
 "nbformat_minor": 2
}
