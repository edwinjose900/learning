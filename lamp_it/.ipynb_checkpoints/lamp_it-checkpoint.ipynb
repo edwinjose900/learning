{
 "cells": [
  {
   "cell_type": "markdown",
   "metadata": {},
   "source": [
    "# LAMP_It\n",
    "It is the interface of the lamp that will respond to the questions and assist the users"
   ]
  },
  {
   "cell_type": "markdown",
   "metadata": {},
   "source": [
    "### imports"
   ]
  },
  {
   "cell_type": "code",
   "execution_count": 1,
   "metadata": {},
   "outputs": [],
   "source": [
    "from chatterbot import ChatBot\n",
    "from chatterbot.trainers import ListTrainer\n",
    "\n",
    "import speech_recognition as sr\n",
    "from time import ctime\n",
    "import time\n",
    "import os\n",
    "from gtts import gTTS\n",
    "import wikipedia\n",
    "import wolframalpha\n",
    "#answer=\"\";\n",
    "APPID=\"LTQUWQ-YLHV4696XJ\";\n",
    "client = wolframalpha.Client(APPID);"
   ]
  },
  {
   "cell_type": "markdown",
   "metadata": {},
   "source": [
    "initializing the chatbots"
   ]
  },
  {
   "cell_type": "code",
   "execution_count": 2,
   "metadata": {},
   "outputs": [],
   "source": [
    "from chatterbot import ChatBot\n",
    "from chatterbot.trainers import ListTrainer\n",
    "\n",
    "lamp = ChatBot(\"Lamp\")\n",
    "lamp.set_trainer(ListTrainer)\n",
    "\n",
    "lamp = ChatBot(\n",
    "    'lamp',\n",
    "    trainer='chatterbot.trainers.ListTrainer',\n",
    "    storage_adapter='chatterbot.storage.SQLStorageAdapter',\n",
    "    logic_adapters=[\n",
    "        \"chatterbot.logic.BestMatch\",\n",
    "    ],\n",
    "    filters=[\n",
    "        'chatterbot.filters.RepetitiveResponseFilter'\n",
    "    ],\n",
    "    #input_adapter='chatterbot.input.TerminalAdapter',\n",
    "    #output_adapter='chatterbot.output.TerminalAdapter',\n",
    "    database='./databaselampit.sqlite3'\n",
    ")"
   ]
  },
  {
   "cell_type": "raw",
   "metadata": {},
   "source": [
    "trainer for the list available in the folder"
   ]
  },
  {
   "cell_type": "code",
   "execution_count": 7,
   "metadata": {},
   "outputs": [],
   "source": [
    "def train_file(filename):\n",
    "    path=filename+\"\";\n",
    "    file = open(path, 'r')\n",
    "    n_lines=0;\n",
    "    for line in file:\n",
    "        n_lines+=1\n",
    "    file.close();\n",
    "    print(n_lines)\n",
    "    count=0\n",
    "    file = open(path, 'r')\n",
    "    for i in range(0,n_lines):\n",
    "        question=file.readline().replace(\"- \",\"\").strip();\n",
    "        answer=file.readline().replace(\"- \",\"\").strip();\n",
    "        lamp.train([question,answer]);\n",
    "        i+=1;\n",
    "\n",
    "\n",
    "train_file(\"ai.yml\");"
   ]
  },
  {
   "cell_type": "markdown",
   "metadata": {},
   "source": [
    "code to call and test the lamp"
   ]
  },
  {
   "cell_type": "code",
   "execution_count": 17,
   "metadata": {},
   "outputs": [
    {
     "name": "stdout",
     "output_type": "stream",
     "text": [
      "Q:food\n",
      "my creator likes biriyani a traditional kerala food\n"
     ]
    }
   ],
   "source": [
    "while True:\n",
    "    try:\n",
    "        question=(input(\"Q:\"));\n",
    "        answer=lamp.get_response(question);\n",
    "        print(answer);\n",
    "    # Press ctrl-c or ctrl-d on the keyboard to exit\n",
    "    except (KeyboardInterrupt, EOFError, SystemExit):\n",
    "        break"
   ]
  },
  {
   "cell_type": "markdown",
   "metadata": {},
   "source": [
    "#### funtion to know if the bot is calibarted or not"
   ]
  },
  {
   "cell_type": "code",
   "execution_count": 3,
   "metadata": {},
   "outputs": [
    {
     "name": "stdout",
     "output_type": "stream",
     "text": [
      "False\n"
     ]
    }
   ],
   "source": [
    "def calibrate():\n",
    "    file=open(\"ini.txt\",'r')\n",
    "    s=int(file.read());\n",
    "    file.close();\n",
    "    if (s==0):\n",
    "        return False;\n",
    "    else:\n",
    "        return True;\n",
    "print(calibrate());"
   ]
  },
  {
   "cell_type": "markdown",
   "metadata": {},
   "source": [
    "#### function for self calibration"
   ]
  },
  {
   "cell_type": "code",
   "execution_count": 4,
   "metadata": {},
   "outputs": [],
   "source": [
    "\n",
    "def self_calibrate():\n",
    "    path_Q=\"calibrate.txt\"\n",
    "    Q= open(path_Q, 'r')\n",
    "    A= open(\"self_calibrate.txt\",'w')\n",
    "    n_lines=0;\n",
    "    for line in Q:\n",
    "        n_lines+=1\n",
    "    Q.close();\n",
    "    print(n_lines)\n",
    "    count=0\n",
    "    Q = open(path_Q, 'r')\n",
    "    for i in range(0,n_lines):\n",
    "        question=Q.readline().replace(\"- \",\"\").strip();\n",
    "        print(\"Q :\"+question);\n",
    "        answer=input(\"answer\")\n",
    "        A.write(question+\"/n\");\n",
    "        A.write(answer+\"/n\");\n",
    "        chatterbot.train([question,answer]);\n",
    "        i+=1;\n",
    "        \n",
    "        \n",
    "        \n",
    "        ### add the code to change the initial state to zero once the file had been calibrated"
   ]
  },
  {
   "cell_type": "code",
   "execution_count": 5,
   "metadata": {},
   "outputs": [
    {
     "name": "stdout",
     "output_type": "stream",
     "text": [
      "dont calibrate\n"
     ]
    }
   ],
   "source": [
    "if(calibrate()):\n",
    "    print(\"calibarting\");\n",
    "    self_calibrate();\n",
    "    \n",
    "else:\n",
    "    print(\"dont calibrate\");"
   ]
  },
  {
   "cell_type": "code",
   "execution_count": 8,
   "metadata": {},
   "outputs": [
    {
     "name": "stdout",
     "output_type": "stream",
     "text": [
      "6\n",
      "List Trainer: [####################] 100%\n",
      "List Trainer: [####################] 100%\n",
      "List Trainer: [####################] 100%\n",
      "List Trainer: [####################] 100%\n",
      "List Trainer: [####################] 100%\n",
      "List Trainer: [####################] 100%\n"
     ]
    }
   ],
   "source": [
    "train_file(\"self_calibrate.txt\");"
   ]
  },
  {
   "cell_type": "markdown",
   "metadata": {},
   "source": [
    "#### function to call for wikipedia and wolfromalpha"
   ]
  },
  {
   "cell_type": "code",
   "execution_count": 9,
   "metadata": {},
   "outputs": [],
   "source": [
    "\n",
    "#fucntion to call wikipedia and wolfrom\n",
    "def online(ask):\n",
    "    #try and except\n",
    "    try:\n",
    "        #wolf\n",
    "        res=client.query(ask);\n",
    "        answer=next(res.results).text;\n",
    "    except:\n",
    "            try:\n",
    "                wikipedia.set_lang(\"en\");\n",
    "                answer=wikipedia.summary(ask,sentences =2);\n",
    "            except:\n",
    "                answer=\"error\";\n",
    "    return answer;"
   ]
  },
  {
   "cell_type": "markdown",
   "metadata": {},
   "source": [
    "#### voice recognition functions and its setting up"
   ]
  },
  {
   "cell_type": "code",
   "execution_count": 10,
   "metadata": {},
   "outputs": [],
   "source": [
    " \n",
    "def speak(audioString):\n",
    "    print(audioString)\n",
    "    tts = gTTS(text=audioString, lang='en')\n",
    "    tts.save(\"audio.mp3\")\n",
    "    os.system(\"mpg321 audio.mp3\")\n",
    " \n",
    " def recordAudio():\n",
    "    # Record Audio\n",
    "    r = sr.Recognizer()\n",
    "    with sr.Microphone() as source:\n",
    "        print(\"Say something!\")\n",
    "        audio = r.listen(source)\n",
    " \n",
    "    # Speech recognition using Google Speech Recognition\n",
    "    data = \"\"\n",
    "    try:\n",
    "        # Uses the default API key\n",
    "        # To use another API key: `r.recognize_google(audio, key=\"GOOGLE_SPEECH_RECOGNITION_API_KEY\")`\n",
    "        data = r.recognize_google(audio)\n",
    "        print(\"You said: \" + data)\n",
    "    except sr.UnknownValueError:\n",
    "        print(\"Google Speech Recognition could not understand audio\")\n",
    "    except sr.RequestError as e:\n",
    "        print(\"Could not request results from Google Speech Recognition service; {0}\".format(e))\n",
    " \n",
    "    return data"
   ]
  },
  {
   "cell_type": "markdown",
   "metadata": {},
   "source": [
    "# lamp main function"
   ]
  },
  {
   "cell_type": "code",
   "execution_count": 29,
   "metadata": {},
   "outputs": [],
   "source": [
    "\n",
    "def lamp_it(data):\n",
    "    answer=\"\";\n",
    "    if \"how are you\" in data:\n",
    "        answer=str(lamp.get_response(data));\n",
    "        print(answer);\n",
    "        speak(answer);\n",
    " \n",
    "    elif \"what time is it\" in data:\n",
    "        speak(ctime())\n",
    " \n",
    "    elif \"where is\" in data:\n",
    "        data = data.split(\" \")\n",
    "        location = data[2]\n",
    "        speak(\"Hold on Buddy, I will show you where \" + location + \" is.\")\n",
    "        os.system(\"chromium-browser https://www.google.nl/maps/place/\" + location + \"/&amp;\")\n",
    "        \n",
    "    elif \"can you hear me\" in data:\n",
    "        speak(\"yes i can hear you \");\n",
    "    else:\n",
    "        answer=str(lamp.get_response(data));\n",
    "        speak(answer);\n"
   ]
  },
  {
   "cell_type": "code",
   "execution_count": 31,
   "metadata": {},
   "outputs": [
    {
     "name": "stdout",
     "output_type": "stream",
     "text": [
      "I am doing well.\n",
      "I am doing well.\n"
     ]
    }
   ],
   "source": [
    "lamp_it(\"how are you\")"
   ]
  },
  {
   "cell_type": "code",
   "execution_count": 26,
   "metadata": {},
   "outputs": [
    {
     "data": {
      "text/plain": [
       "0"
      ]
     },
     "execution_count": 26,
     "metadata": {},
     "output_type": "execute_result"
    }
   ],
   "source": [
    "from gtts import gTTS\n",
    "import os\n",
    "tts = gTTS(text='know', lang='en')\n",
    "tts.save(\"hello.mp3\")\n",
    "os.system(\"mpg321 hello.mp3\")\n"
   ]
  },
  {
   "cell_type": "code",
   "execution_count": 28,
   "metadata": {},
   "outputs": [
    {
     "name": "stdout",
     "output_type": "stream",
     "text": [
      "hello\n"
     ]
    }
   ],
   "source": [
    "\n",
    "answer=\"hello\"\n",
    "speak(answer);"
   ]
  },
  {
   "cell_type": "code",
   "execution_count": null,
   "metadata": {},
   "outputs": [],
   "source": []
  }
 ],
 "metadata": {
  "kernelspec": {
   "display_name": "Python 3.6",
   "language": "python",
   "name": "python_3.6"
  },
  "language_info": {
   "codemirror_mode": {
    "name": "ipython",
    "version": 3
   },
   "file_extension": ".py",
   "mimetype": "text/x-python",
   "name": "python",
   "nbconvert_exporter": "python",
   "pygments_lexer": "ipython3",
   "version": "3.6.3"
  }
 },
 "nbformat": 4,
 "nbformat_minor": 2
}
