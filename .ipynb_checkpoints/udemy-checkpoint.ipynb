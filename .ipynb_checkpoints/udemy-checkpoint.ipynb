{
 "cells": [
  {
   "cell_type": "code",
   "execution_count": null,
   "metadata": {},
   "outputs": [],
   "source": [
    "import wolframalpha\n",
    "ask= input(\"question:\");\n",
    "print(ask);\n",
    "APPID=\"LTQUWQ-YLHV4696XJ\";\n",
    "client = wolframalpha.Client(APPID);\n",
    "res=client.query(ask);\n",
    "answer=next(res.results).text;\n",
    "print(answer);"
   ]
  },
  {
   "cell_type": "markdown",
   "metadata": {},
   "source": [
    "## testing wikipedia"
   ]
  },
  {
   "cell_type": "code",
   "execution_count": null,
   "metadata": {},
   "outputs": [],
   "source": [
    "import wikipedia"
   ]
  },
  {
   "cell_type": "code",
   "execution_count": null,
   "metadata": {},
   "outputs": [],
   "source": [
    "while True:\n",
    "    ask=str(input(\"Q:\"));\n",
    "    print(wikipedia.summary(ask));"
   ]
  },
  {
   "cell_type": "markdown",
   "metadata": {},
   "source": [
    "## advance feature by wikipedia api\n"
   ]
  },
  {
   "cell_type": "code",
   "execution_count": null,
   "metadata": {},
   "outputs": [],
   "source": [
    "import wikipedia\n",
    "while True:\n",
    "    ask=str(input(\"Q:\"));\n",
    "    #setting language\n",
    "    wikipedia.set_lang(\"en\")\n",
    "    print(wikipedia.summary(ask,sentences =2));\n",
    "#truncating the output"
   ]
  },
  {
   "cell_type": "markdown",
   "metadata": {},
   "source": [
    "# compining the data from wolfrom and wikipedia\n"
   ]
  },
  {
   "cell_type": "code",
   "execution_count": null,
   "metadata": {},
   "outputs": [],
   "source": [
    "import wikipedia\n",
    "import wolframalpha\n",
    "\n",
    "APPID=\"LTQUWQ-YLHV4696XJ\";\n",
    "client = wolframalpha.Client(APPID);\n",
    "while True:\n",
    "    ask=str(input(\"Q:\"));\n",
    "    \n",
    "    #try and except\n",
    "    try:\n",
    "        #wolf\n",
    "        res=client.query(ask);\n",
    "        answer=next(res.results).text;\n",
    "        print(answer);\n",
    "    except:\n",
    "        wikipedia.set_lang(\"en\")\n",
    "        print(wikipedia.summary(ask,sentences =2));"
   ]
  },
  {
   "cell_type": "markdown",
   "metadata": {},
   "source": [
    "# code for minimal assistant"
   ]
  },
  {
   "cell_type": "code",
   "execution_count": null,
   "metadata": {},
   "outputs": [],
   "source": [
    "import wikipedia\n",
    "import wolframalpha\n",
    "\n",
    "APPID=\"LTQUWQ-YLHV4696XJ\";\n",
    "client = wolframalpha.Client(APPID);\n",
    "while True:\n",
    "    ask=str(input(\"Q:\"));\n",
    "    \n",
    "    #try and except\n",
    "    try:\n",
    "        #wolf\n",
    "        res=client.query(ask);\n",
    "        answer=next(res.results).text;\n",
    "        print(answer);\n",
    "    except:\n",
    "        wikipedia.set_lang(\"en\")\n",
    "        print(wikipedia.summary(ask,sentences =2));\n",
    "        "
   ]
  },
  {
   "cell_type": "markdown",
   "metadata": {},
   "source": [
    " ## testing gTTS"
   ]
  },
  {
   "cell_type": "code",
   "execution_count": null,
   "metadata": {},
   "outputs": [],
   "source": [
    "from gtts import gTTS\n",
    "import os\n",
    "tts = gTTS(text='know', lang='en')\n",
    "tts.save(\"hello.mp3\")\n",
    "os.system(\"mpg321 hello.mp3\")\n"
   ]
  },
  {
   "cell_type": "code",
   "execution_count": null,
   "metadata": {
    "scrolled": false
   },
   "outputs": [],
   "source": [
    " \n",
    "import speech_recognition as sr\n",
    "from time import ctime\n",
    "import time\n",
    "import os\n",
    "from gtts import gTTS\n",
    " \n",
    "def speak(audioString):\n",
    "    print(audioString)\n",
    "    tts = gTTS(text=audioString, lang='en')\n",
    "    tts.save(\"audio.mp3\")\n",
    "    os.system(\"mpg321 audio.mp3\")\n",
    " \n",
    "def recordAudio():\n",
    "    # Record Audio\n",
    "    r = sr.Recognizer()\n",
    "    with sr.Microphone() as source:\n",
    "        print(\"Say something!\")\n",
    "        audio = r.listen(source)\n",
    " \n",
    "    # Speech recognition using Google Speech Recognition\n",
    "    data = \"\"\n",
    "    try:\n",
    "        # Uses the default API key\n",
    "        # To use another API key: `r.recognize_google(audio, key=\"GOOGLE_SPEECH_RECOGNITION_API_KEY\")`\n",
    "        data = r.recognize_google(audio)\n",
    "        print(\"You said: \" + data)\n",
    "    except sr.UnknownValueError:\n",
    "        print(\"Google Speech Recognition could not understand audio\")\n",
    "    except sr.RequestError as e:\n",
    "        print(\"Could not request results from Google Speech Recognition service; {0}\".format(e))\n",
    " \n",
    "    return data\n",
    " \n",
    "def jarvis(data):\n",
    "    if \"how are you\" in data:\n",
    "        speak(\"I am fine\")\n",
    " \n",
    "    if \"what time is it\" in data:\n",
    "        speak(ctime())\n",
    " \n",
    "    if \"where is\" in data:\n",
    "        data = data.split(\" \")\n",
    "        location = data[2]\n",
    "        speak(\"Hold on Frank, I will show you where \" + location + \" is.\")\n",
    "        os.system(\"chromium-browser https://www.google.nl/maps/place/\" + location + \"/&amp;\")\n",
    " \n",
    "# initialization\n",
    "time.sleep(2)\n",
    "speak(\"Hi zven, what can I do for you?\")\n",
    "while 1:\n",
    "    data = recordAudio()\n",
    "    jarvis(data)"
   ]
  },
  {
   "cell_type": "markdown",
   "metadata": {},
   "source": [
    "# modulising the wiki wolfram pgrs ## to be integarted with speak"
   ]
  },
  {
   "cell_type": "markdown",
   "metadata": {},
   "source": []
  },
  {
   "cell_type": "code",
   "execution_count": null,
   "metadata": {},
   "outputs": [],
   "source": [
    "import wikipedia\n",
    "import wolframalpha\n",
    "answer=\"\";\n",
    "APPID=\"LTQUWQ-YLHV4696XJ\";\n",
    "client = wolframalpha.Client(APPID);\n",
    "\n",
    "#fucntion to call wikipedia and wolfrom\n",
    "def online(ask):\n",
    "    #try and except\n",
    "    try:\n",
    "        #wolf\n",
    "        res=client.query(ask);\n",
    "        answer=next(res.results).text;\n",
    "    except:\n",
    "            try:\n",
    "                wikipedia.set_lang(\"en\");\n",
    "                answer=wikipedia.summary(ask,sentences =2);\n",
    "            except:\n",
    "                answer=\"error\";\n",
    "    return answer;\n",
    "#mainloop\n",
    "while True:\n",
    "    ask=str(input(\"Q:\"));\n",
    "    answer=online(ask);\n",
    "    print(answer);"
   ]
  },
  {
   "cell_type": "markdown",
   "metadata": {},
   "source": [
    "## combining speak to wikipedia"
   ]
  },
  {
   "cell_type": "code",
   "execution_count": 1,
   "metadata": {},
   "outputs": [
    {
     "name": "stdout",
     "output_type": "stream",
     "text": [
      "Hi Edwin, what can I do for you?\n",
      "Say something!\n",
      "You said: can I know who is Thomas Edison\n",
      "Thomas Alva Edison (February 11, 1847 – October 18, 1931) was an American inventor and businessman, who has been described as America's greatest inventor. He developed many devices that greatly influenced life around the world, including the phonograph, the motion picture camera, and the long-lasting, practical electric light bulb.\n",
      "Thomas Alva Edison (February 11, 1847 – October 18, 1931) was an American inventor and businessman, who has been described as America's greatest inventor. He developed many devices that greatly influenced life around the world, including the phonograph, the motion picture camera, and the long-lasting, practical electric light bulb.\n",
      "Say something!\n",
      "You said: what is 1 + 2 + 3 + 5\n",
      "11\n",
      "11\n",
      "Say something!\n",
      "You said: what is the integral of sin x\n",
      "integral sin(x) dx = -cos(x) + constant\n",
      "integral sin(x) dx = -cos(x) + constant\n",
      "Say something!\n",
      "You said: what is 1 minus 2\n",
      "-1\n",
      "-1\n",
      "Say something!\n",
      "You said: minus Cos theta\n",
      "theta = pi n - pi/2,   n element Z\n",
      "theta = pi n - pi/2,   n element Z\n",
      "Say something!\n",
      "You said: when was Gandhiji born\n",
      "Saturday, October 2, 1869\n",
      "Saturday, October 2, 1869\n",
      "Say something!\n",
      "You said: what is the name of the 13th President of India\n",
      "13th is a 2016 American documentary by director Ava DuVernay. The film explores the \"intersection of race, justice and mass incarceration in the United States;\" it is titled after the Thirteenth Amendment to the United States Constitution, which freed the slaves and prohibited slavery (unless as punishment for a crime).\n",
      "13th is a 2016 American documentary by director Ava DuVernay. The film explores the \"intersection of race, justice and mass incarceration in the United States;\" it is titled after the Thirteenth Amendment to the United States Constitution, which freed the slaves and prohibited slavery (unless as punishment for a crime).\n",
      "Say something!\n",
      "You said: who is the 13th President of India\n",
      "Pranab Mukherjee  (from 25/07/2012  to  25/07/2017)\n",
      "Pranab Mukherjee  (from 25/07/2012  to  25/07/2017)\n",
      "Say something!\n",
      "Google Speech Recognition could not understand audio\n"
     ]
    },
    {
     "ename": "UnboundLocalError",
     "evalue": "local variable 'answer' referenced before assignment",
     "output_type": "error",
     "traceback": [
      "\u001b[0;31m---------------------------------------------------------------------------\u001b[0m",
      "\u001b[0;31mUnboundLocalError\u001b[0m                         Traceback (most recent call last)",
      "\u001b[0;32m<ipython-input-1-7ed74d2f8acd>\u001b[0m in \u001b[0;36m<module>\u001b[0;34m()\u001b[0m\n\u001b[1;32m     77\u001b[0m \u001b[0;32mwhile\u001b[0m \u001b[0;36m1\u001b[0m\u001b[0;34m:\u001b[0m\u001b[0;34m\u001b[0m\u001b[0m\n\u001b[1;32m     78\u001b[0m    \u001b[0mdata\u001b[0m \u001b[0;34m=\u001b[0m \u001b[0mrecordAudio\u001b[0m\u001b[0;34m(\u001b[0m\u001b[0;34m)\u001b[0m\u001b[0;34m;\u001b[0m\u001b[0;34m\u001b[0m\u001b[0m\n\u001b[0;32m---> 79\u001b[0;31m    \u001b[0manswer\u001b[0m\u001b[0;34m=\u001b[0m\u001b[0maskme\u001b[0m\u001b[0;34m(\u001b[0m\u001b[0mdata\u001b[0m\u001b[0;34m)\u001b[0m\u001b[0;34m;\u001b[0m\u001b[0;34m\u001b[0m\u001b[0m\n\u001b[0m",
      "\u001b[0;32m<ipython-input-1-7ed74d2f8acd>\u001b[0m in \u001b[0;36maskme\u001b[0;34m(ask)\u001b[0m\n\u001b[1;32m     70\u001b[0m            \u001b[0;32mexcept\u001b[0m\u001b[0;34m:\u001b[0m\u001b[0;34m\u001b[0m\u001b[0m\n\u001b[1;32m     71\u001b[0m                \u001b[0mzvendetta\u001b[0m\u001b[0;34m(\u001b[0m\u001b[0mask\u001b[0m\u001b[0;34m)\u001b[0m\u001b[0;34m\u001b[0m\u001b[0m\n\u001b[0;32m---> 72\u001b[0;31m    \u001b[0;32mreturn\u001b[0m \u001b[0manswer\u001b[0m\u001b[0;34m;\u001b[0m\u001b[0;34m\u001b[0m\u001b[0m\n\u001b[0m\u001b[1;32m     73\u001b[0m \u001b[0;34m\u001b[0m\u001b[0m\n\u001b[1;32m     74\u001b[0m \u001b[0;31m# initialization\u001b[0m\u001b[0;34m\u001b[0m\u001b[0;34m\u001b[0m\u001b[0m\n",
      "\u001b[0;31mUnboundLocalError\u001b[0m: local variable 'answer' referenced before assignment"
     ]
    }
   ],
   "source": [
    " \n",
    "import speech_recognition as sr\n",
    "from time import ctime\n",
    "import time\n",
    "import os\n",
    "from gtts import gTTS\n",
    "import wikipedia\n",
    "import wolframalpha\n",
    "answer=\"\";\n",
    "APPID=\"LTQUWQ-YLHV4696XJ\";\n",
    "client = wolframalpha.Client(APPID);\n",
    "\n",
    "\n",
    "\n",
    "def speak(audioString):\n",
    "    print(audioString)\n",
    "    tts = gTTS(text=audioString, lang='en')\n",
    "    tts.save(\"audio.mp3\")\n",
    "    os.system(\"mpg321 audio.mp3\")\n",
    " \n",
    "def recordAudio():\n",
    "    # Record Audio\n",
    "    r = sr.Recognizer()\n",
    "    with sr.Microphone() as source:\n",
    "        print(\"Say something!\")\n",
    "        audio = r.listen(source)\n",
    " \n",
    "    # Speech recognition using Google Speech Recognition\n",
    "    data = \"\"\n",
    "    try:\n",
    "        # Uses the default API key\n",
    "        # To use another API key: `r.recognize_google(audio, key=\"GOOGLE_SPEECH_RECOGNITION_API_KEY\")`\n",
    "        data = r.recognize_google(audio)\n",
    "        print(\"You said: \" + data)\n",
    "    except sr.UnknownValueError:\n",
    "        print(\"Google Speech Recognition could not understand audio\")\n",
    "    except sr.RequestError as e:\n",
    "        print(\"Could not request results from Google Speech Recognition service; {0}\".format(e))\n",
    " \n",
    "    return data\n",
    " \n",
    "def zvendetta(data):\n",
    "    if \"how are you\" in data:\n",
    "        speak(\"I am fine\")\n",
    " \n",
    "    if \"what time is it\" in data:\n",
    "        speak(ctime())\n",
    " \n",
    "    if \"where is\" in data:\n",
    "        data = data.split(\" \")\n",
    "        location = data[2]\n",
    "        speak(\"Hold on Frank, I will show you where \" + location + \" is.\")\n",
    "        os.system(\"chromium-browser https://www.google.nl/maps/place/\" + location + \"/&amp;\")\n",
    "\n",
    "#fucntion to call wikipedia and wolfrom\n",
    "def askme(ask):\n",
    "    #try and except\n",
    "    try:\n",
    "        #wolf\n",
    "        res=client.query(ask);\n",
    "        answer=next(res.results).text;\n",
    "        print(answer);\n",
    "        speak(answer);\n",
    "    except:\n",
    "            try:\n",
    "                wikipedia.set_lang(\"en\");\n",
    "                answer=wikipedia.summary(ask,sentences =2);\n",
    "                print(answer);\n",
    "                speak(answer);\n",
    "            except:\n",
    "                zvendetta(ask)\n",
    "    return answer;\n",
    " \n",
    "# initialization\n",
    "time.sleep(2)\n",
    "speak(\"Hi Edwin, what can I do for you?\")\n",
    "while 1:\n",
    "    data = recordAudio();\n",
    "    answer=askme(data);"
   ]
  },
  {
   "cell_type": "code",
   "execution_count": null,
   "metadata": {},
   "outputs": [],
   "source": []
  }
 ],
 "metadata": {
  "kernelspec": {
   "display_name": "Python 3.6",
   "language": "python",
   "name": "python_3.6"
  },
  "language_info": {
   "codemirror_mode": {
    "name": "ipython",
    "version": 3
   },
   "file_extension": ".py",
   "mimetype": "text/x-python",
   "name": "python",
   "nbconvert_exporter": "python",
   "pygments_lexer": "ipython3",
   "version": "3.6.3"
  }
 },
 "nbformat": 4,
 "nbformat_minor": 2
}
