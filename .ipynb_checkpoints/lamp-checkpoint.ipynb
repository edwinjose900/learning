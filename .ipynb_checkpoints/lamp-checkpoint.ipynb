{
 "cells": [
  {
   "cell_type": "markdown",
   "metadata": {},
   "source": [
    "# interface for the lamp"
   ]
  },
  {
   "cell_type": "markdown",
   "metadata": {},
   "source": [
    "importing necessary libraries"
   ]
  },
  {
   "cell_type": "code",
   "execution_count": 1,
   "metadata": {},
   "outputs": [],
   "source": [
    "\n",
    "import speech_recognition as sr\n",
    "from time import ctime\n",
    "import time\n",
    "import os\n",
    "from gtts import gTTS\n",
    "import wikipedia\n",
    "import wolframalpha\n",
    "#answer=\"\";\n",
    "APPID=\"LTQUWQ-YLHV4696XJ\";\n",
    "client = wolframalpha.Client(APPID);"
   ]
  },
  {
   "cell_type": "markdown",
   "metadata": {},
   "source": [
    "voice recognition functions and its setting up"
   ]
  },
  {
   "cell_type": "code",
   "execution_count": 4,
   "metadata": {},
   "outputs": [],
   "source": [
    "def speak(audioString):\n",
    "    print(audioString);\n",
    "    tts = gTTS(text=audioString, lang='en')\n",
    "    tts.save(\"audio.mp3\");\n",
    "    os.system(\"mpg321 audio.mp3\");\n",
    " \n",
    "def recordAudio():\n",
    "    # Record Audio\n",
    "    r = sr.Recognizer()\n",
    "    with sr.Microphone(device_index =2) as source:\n",
    "        print(\"Please wait. Calibrating microphone...\")  \n",
    "        # listen for 5 seconds and create the ambient noise energy level  \n",
    "        r.adjust_for_ambient_noise(source, duration=5)         # listen for 1 second to calibrate the energy threshold for ambient noise levels\n",
    "        print(\"Say something!\")\n",
    "        audio = r.listen(source)\n",
    " \n",
    "    # Speech recognition using Google Speech Recognition\n",
    "    data = \"\"\n",
    "    try:\n",
    "        # Uses the default API key\n",
    "        # To use another API key: `r.recognize_google(audio, key=\"GOOGLE_SPEECH_RECOGNITION_API_KEY\")`\n",
    "        #data = r.recognize_google(audio)\n",
    "        data = r.recognize_sphnix(audio)\n",
    "        print(\"You said: \" + data)\n",
    "    except sr.UnknownValueError:\n",
    "        print(\"Google Speech Recognition could not understand audio\")\n",
    "    except sr.RequestError as e:\n",
    "        print(\"Could not request results from Google Speech Recognition service; {0}\".format(e))\n",
    " \n",
    "    return data\n"
   ]
  },
  {
   "cell_type": "markdown",
   "metadata": {},
   "source": [
    "#### the interactive functions of the lamp"
   ]
  },
  {
   "cell_type": "code",
   "execution_count": 5,
   "metadata": {},
   "outputs": [],
   "source": [
    " \n",
    "def zvendetta(data):\n",
    "    if \"how are you\" in data:\n",
    "        speak(\"I am fine\")\n",
    " \n",
    "    if \"what time is it\" in data:\n",
    "        speak(ctime())\n",
    " \n",
    "    if \"where is\" in data:\n",
    "        data = data.split(\" \")\n",
    "        location = data[2]\n",
    "        speak(\"Hold on Frank, I will show you where \" + location + \" is.\")\n",
    "        os.system(\"chromium-browser https://www.google.nl/maps/place/\" + location + \"/&amp;\")\n",
    "\n",
    "#fucntion to call wikipedia and wolfrom\n",
    "def askme(ask):\n",
    "    #try and except\n",
    "    answer=\"\";\n",
    "    try:\n",
    "        #wolf\n",
    "        res=client.query(ask);\n",
    "        answer=next(res.results).text;\n",
    "        #print(answer,sentences=2);\n",
    "        speak(answer);\n",
    "    except:\n",
    "            try:\n",
    "                wikipedia.set_lang(\"en\");\n",
    "                answer=wikipedia.summary(ask,sentences =2);\n",
    "                #print(answer);\n",
    "                speak(answer);\n",
    "            except:\n",
    "                zvendetta(ask)\n",
    "    return answer;\n",
    " \n"
   ]
  },
  {
   "cell_type": "code",
   "execution_count": null,
   "metadata": {},
   "outputs": [],
   "source": []
  }
 ],
 "metadata": {
  "kernelspec": {
   "display_name": "Python 3.6",
   "language": "python",
   "name": "python_3.6"
  },
  "language_info": {
   "codemirror_mode": {
    "name": "ipython",
    "version": 3
   },
   "file_extension": ".py",
   "mimetype": "text/x-python",
   "name": "python",
   "nbconvert_exporter": "python",
   "pygments_lexer": "ipython3",
   "version": "3.6.3"
  }
 },
 "nbformat": 4,
 "nbformat_minor": 2
}
